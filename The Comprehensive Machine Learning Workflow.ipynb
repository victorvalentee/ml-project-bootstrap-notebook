{
 "cells": [
  {
   "cell_type": "markdown",
   "metadata": {},
   "source": [
    "# The Comprehensive Machine Learning Pipeline (For Business)"
   ]
  },
  {
   "cell_type": "markdown",
   "metadata": {},
   "source": [
    "*\"Do machine learning like the great engineer you are, not like the great machine learning\n",
    "expert you aren't\"* - [Martin Zinkevich.](http://martin.zinkevich.org/rules_of_ml/rules_of_ml.pdf)\n",
    "\n",
    "That is because the vast majority of problems you'll face are not related to ML engineering per se, but to common **infrastructure roadblocks** and **business constraints**."
   ]
  },
  {
   "cell_type": "markdown",
   "metadata": {},
   "source": [
    "# Before ML"
   ]
  },
  {
   "cell_type": "markdown",
   "metadata": {},
   "source": [
    "## Get Your Business Intelligence Hours In\n",
    "\n",
    "The **best way** to present an ml product to a business owner / manager is to show how you can achieve better results for a current metric without disrupting their core business and infrastructure, *or at least trying to*. But how?\n",
    "\n",
    "0. Understand the problem from the business perspective.\n",
    " - What's the objective?\n",
    " - What are the metrics used for decision making?\n",
    " - What is the heuristic or decision making process already in place for solving this problem?\n",
    " - What's the lag between procedure and results?\n",
    " - What could be the positive and negative impacts of implementing a model to solve it?\n",
    "1. Understand business constraints. Problems are rarely univariate.\n",
    " - What are the freshness requirements for a model-based approach? For example, a credit scoring model can have an impact on revenue in under a month.\n",
    " - What are the situations that can influence the result you're tracking? Maybe economics or some business procedure that has indirect relation to it.\n",
    " - What ethical, legal and financial implications must be taken in consideration on a model-based strategy?\n",
    "2. Discuss how a ML approach can solve the problem.\n",
    " - What are the stakeholders' expectations?\n",
    " - What's the MVP?\n",
    " - Define deliverables."
   ]
  },
  {
   "cell_type": "markdown",
   "metadata": {},
   "source": [
    "## Define Judging Metrics Early On\n",
    "\n",
    "In this stage you should already devise a strategy to track all points of interest defined in the mvp. Ideally, you'll end up with a very automatic way to judge wether a model is good or bad."
   ]
  },
  {
   "cell_type": "markdown",
   "metadata": {},
   "source": [
    "# ML Step -1: Data Pipelines"
   ]
  },
  {
   "cell_type": "markdown",
   "metadata": {},
   "source": [
    "*\"Good models require good data. Good production ml systems require good data pipelines.\"*\n",
    "\n",
    "What does it mean to have \"good\" data? Here's a list of quality characteristics to begin with:\n",
    "\n",
    "- Normalized (like in database normalization)\n",
    "- Complete\n",
    "- Consistent\n",
    "- Accurate\n",
    "- Time stamped\n",
    "- [Tidy](http://vita.had.co.nz/papers/tidy-data.pdf)\n",
    "\n",
    "What about good data pipelines? Brace yourselves.\n",
    "<img src=\"http://2s7gjr373w3x22jf92z99mgm5w-wpengine.netdna-ssl.com/wp-content/uploads/2015/09/pentaho_1.png\" />"
   ]
  },
  {
   "cell_type": "markdown",
   "metadata": {},
   "source": [
    "# ML Step 0: Getting Started"
   ]
  },
  {
   "cell_type": "markdown",
   "metadata": {},
   "source": [
    "## Basic Pipeline (MVP)\n",
    "\n",
    "You can think of a **basic** ml product pipeline as a moving assembly line, where data passes from one module to another (data acquisition, pre-processing...) in a sequential manner, and the prediction is the final product.\n",
    "\n",
    "**Every module should be independent and changeable.** Suppose you're working with a tree-based model and decided it is time to update it to a neural network; this should be easy to do without destroying the underlying pipeline. **This type of quality can only be achieved through *skillful discipline and commitment to fundamentals*.**\n",
    "\n",
    "\n",
    "<div style=\"width:100; font-size:80%; text-align:center;\"><img src=\"https://d1ldz4te4covpm.cloudfront.net/graphics/9781788838290/graphics/171dfaaa-00a1-4a62-9dd4-786ed31b412f.png\" alt=\"ML MVP Pipeline\" style=\"padding-bottom:0.5em;\" />ML MVP Pipeline</div>"
   ]
  },
  {
   "cell_type": "markdown",
   "metadata": {},
   "source": [
    "## Production Pipeline\n",
    "\n",
    "Chances are the basic pipeline structure won't be good enough for production. You'll need a more robust system and it's overall functionalily is defined in the following picture.\n",
    "\n",
    "<img src=\"https://pbs.twimg.com/media/DxnbU_0X0AIeEo_.jpg\" />"
   ]
  },
  {
   "cell_type": "markdown",
   "metadata": {},
   "source": [
    "## Pipeline Dry Run\n",
    "\n",
    "*\"All systems nominal.\"*\n",
    "\n",
    "A dry run is a testing process where the effects of a possible failure are intentionally mitigated. In our case, a dry run is an end-to-end test to assess the quality of the pipeline and that the results are in acceptable range. You should perform this step rigorously and repeatedly before deploying.\n",
    "\n",
    "**A good pipeline consists of independent modules that smoothly transform instances into predictions.**"
   ]
  },
  {
   "cell_type": "code",
   "execution_count": null,
   "metadata": {},
   "outputs": [],
   "source": []
  },
  {
   "cell_type": "code",
   "execution_count": null,
   "metadata": {},
   "outputs": [],
   "source": []
  },
  {
   "cell_type": "markdown",
   "metadata": {},
   "source": [
    "# Imports"
   ]
  },
  {
   "cell_type": "code",
   "execution_count": null,
   "metadata": {},
   "outputs": [],
   "source": [
    "%load_ext autoreload\n",
    "%autoreload 2\n",
    "%matplotlib inline\n",
    "# Notebook configuration above.\n",
    "\n",
    "# Data collection\n",
    "import numpy as np\n",
    "import pandas as pd\n",
    "pd.set_option('display.max_columns', None) \n",
    "\n",
    "# Data preparation.\n",
    "from sklearn.preprocessing import LabelEncoder\n",
    "\n",
    "# Model development.\n",
    "from sklearn.ensemble import GradientBoostingClassifier\n",
    "\n",
    "# Model training.\n",
    "from sklearn.utils import compute_class_weight\n",
    "\n",
    "# Model evaluation.\n",
    "from sklearn.metrics import classification_report, confusion_matrix, recall_score\n",
    "\n",
    "# Data visualization.\n",
    "import matplotlib.pyplot as plt\n",
    "import seaborn as sns"
   ]
  },
  {
   "cell_type": "code",
   "execution_count": null,
   "metadata": {},
   "outputs": [],
   "source": []
  },
  {
   "cell_type": "markdown",
   "metadata": {},
   "source": [
    "# Objective\n"
   ]
  },
  {
   "cell_type": "code",
   "execution_count": null,
   "metadata": {},
   "outputs": [],
   "source": []
  },
  {
   "cell_type": "markdown",
   "metadata": {},
   "source": [
    "## Metric definition\n",
    "\n"
   ]
  },
  {
   "cell_type": "code",
   "execution_count": null,
   "metadata": {},
   "outputs": [],
   "source": []
  },
  {
   "cell_type": "markdown",
   "metadata": {},
   "source": [
    "# Data collection\n"
   ]
  },
  {
   "cell_type": "code",
   "execution_count": null,
   "metadata": {},
   "outputs": [],
   "source": []
  },
  {
   "cell_type": "markdown",
   "metadata": {},
   "source": [
    "# Data preparation\n"
   ]
  },
  {
   "cell_type": "code",
   "execution_count": null,
   "metadata": {},
   "outputs": [],
   "source": []
  },
  {
   "cell_type": "markdown",
   "metadata": {},
   "source": [
    "# Data split"
   ]
  },
  {
   "cell_type": "code",
   "execution_count": null,
   "metadata": {},
   "outputs": [],
   "source": []
  },
  {
   "cell_type": "markdown",
   "metadata": {},
   "source": [
    "# Model configuration\n"
   ]
  },
  {
   "cell_type": "code",
   "execution_count": null,
   "metadata": {},
   "outputs": [],
   "source": []
  },
  {
   "cell_type": "markdown",
   "metadata": {},
   "source": [
    "# Model training\n"
   ]
  },
  {
   "cell_type": "code",
   "execution_count": null,
   "metadata": {},
   "outputs": [],
   "source": []
  },
  {
   "cell_type": "markdown",
   "metadata": {},
   "source": [
    "# Model evaluation\n"
   ]
  },
  {
   "cell_type": "code",
   "execution_count": null,
   "metadata": {},
   "outputs": [],
   "source": []
  },
  {
   "cell_type": "markdown",
   "metadata": {},
   "source": [
    "# Model deployment\n",
    "\n"
   ]
  },
  {
   "cell_type": "code",
   "execution_count": null,
   "metadata": {},
   "outputs": [],
   "source": []
  }
 ],
 "metadata": {
  "kernelspec": {
   "display_name": "Python 3",
   "language": "python",
   "name": "python3"
  },
  "language_info": {
   "codemirror_mode": {
    "name": "ipython",
    "version": 3
   },
   "file_extension": ".py",
   "mimetype": "text/x-python",
   "name": "python",
   "nbconvert_exporter": "python",
   "pygments_lexer": "ipython3",
   "version": "3.7.1"
  },
  "varInspector": {
   "cols": {
    "lenName": 16,
    "lenType": 16,
    "lenVar": 40
   },
   "kernels_config": {
    "python": {
     "delete_cmd_postfix": "",
     "delete_cmd_prefix": "del ",
     "library": "var_list.py",
     "varRefreshCmd": "print(var_dic_list())"
    },
    "r": {
     "delete_cmd_postfix": ") ",
     "delete_cmd_prefix": "rm(",
     "library": "var_list.r",
     "varRefreshCmd": "cat(var_dic_list()) "
    }
   },
   "types_to_exclude": [
    "module",
    "function",
    "builtin_function_or_method",
    "instance",
    "_Feature"
   ],
   "window_display": false
  }
 },
 "nbformat": 4,
 "nbformat_minor": 2
}
